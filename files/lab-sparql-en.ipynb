{
 "cells": [
  {
   "cell_type": "markdown",
   "metadata": {
    "id": "N68VFs4BYovC"
   },
   "source": [
    "# What is SPARQL"
   ]
  },
  {
   "cell_type": "markdown",
   "metadata": {
    "id": "2TC-F7vrYovF"
   },
   "source": [
    "**SPARQL** (SPARQL Protocol And RDF Query Language):\n",
    "- the query language for data in RDF format\n",
    "- protocol (REST)"
   ]
  },
  {
   "cell_type": "markdown",
   "metadata": {
    "id": "CIK3vI5OYovI"
   },
   "source": [
    "To practice, we will use an example graph describing the domain of a locality (settlement) that contains selected information from the knowledge graph **DBpedia** (https://www.dbpedia.org). \n",
    "DBpedia contains data from Wikipedia structured into RDF format."
   ]
  },
  {
   "cell_type": "code",
   "execution_count": null,
   "metadata": {
    "colab": {
     "base_uri": "https://localhost:8080/"
    },
    "id": "5nDf0gxzYovK",
    "outputId": "63e01e58-5aec-4579-d68b-7565864e3681"
   },
   "outputs": [],
   "source": [
    "!pip install rdflib\n",
    "\n",
    "from rdflib import Graph\n",
    "g = Graph()\n",
    "\n",
    "g.parse(\"settlements3.ttl\", format=\"ttl\")\n",
    "print(\"Graph contains %s triples.\" % len(g))"
   ]
  },
  {
   "cell_type": "markdown",
   "metadata": {
    "id": "c8UfToCEYovh"
   },
   "source": [
    "In rdflib, SPARQL queries can be issued to a graph using the rdflib.graph.Graph.query() method.\n",
    "\n",
    "# Triple patterns and basic pattern\n",
    "The main form of query in SPARQL is the `SELECT` query, which looks a bit like an SQL query. A `SELECT` query consists of two main elements: a header with a list of selected variables and a `WHERE` clause to specify the graph patterns we want to match in the query, specifically the **basic graph pattern** (written in curly brackets). \n",
    "\n",
    "The result of a `SELECT` query is a table in which there will be one column for each selected variable and one row for each pattern match.\n",
    "\n",
    "The basic building blocks of SPARQL queries are **triple patterns**. These are similar to RDF triples, but you can use a variable in any of the triples positions. We use them to find matching triples in a graph, and the variables act as wildcards to match any node in the graph."
   ]
  },
  {
   "cell_type": "code",
   "execution_count": null,
   "metadata": {
    "colab": {
     "base_uri": "https://localhost:8080/"
    },
    "id": "ihvY_VwNYovj",
    "outputId": "db0f8f8a-4229-451e-9c7a-eb30565b4c36"
   },
   "outputs": [],
   "source": [
    "qres = g.query(\n",
    "    \"\"\"PREFIX dbo: <http://dbpedia.org/ontology/>\n",
    "       \n",
    "       SELECT ?x ?y\n",
    "       WHERE {\n",
    "          ?x dbo:country ?y .\n",
    "       }\"\"\")\n",
    "\n",
    "for row in qres:\n",
    "    print(\"%s is located in country %s\" % row)"
   ]
  },
  {
   "cell_type": "markdown",
   "metadata": {
    "id": "4hdHbzb7Yovu"
   },
   "source": [
    "<span style=\"color:red\">__Exercise 1: Compose a simple query on graph g (containing one triple pattern) for entities with their locations (`dbo:location`) in Warsaw. Warsaw is represented by the resource `dbr:Warsaw`, where `dbr` is a prefix associated with the namespace <http://dbpedia.org/resource/>). The list of results should include resource http://dbpedia.org/resource/Copernicus_Science_Centre.__ </span>"
   ]
  },
  {
   "cell_type": "code",
   "execution_count": null,
   "metadata": {
    "colab": {
     "base_uri": "https://localhost:8080/"
    },
    "id": "YouqHHDZYovw",
    "outputId": "e8baf410-029d-478c-853f-a8d9251194d2"
   },
   "outputs": [],
   "source": [
    "#enter the solution to task 1 here\n",
    "\n",
    "\n",
    "\n",
    "for row in qres:\n",
    "    print(\"%s is located in Warsaw\" % row)\n"
   ]
  },
  {
   "cell_type": "markdown",
   "metadata": {
    "id": "fvhaEXyeYov0"
   },
   "source": [
    "Let us then ask a query containing two triple patterns, for geographical objects that are located in specific districts of Warsaw:"
   ]
  },
  {
   "cell_type": "code",
   "execution_count": null,
   "metadata": {
    "colab": {
     "base_uri": "https://localhost:8080/"
    },
    "id": "mAY_e-suYov1",
    "outputId": "4736daff-3d4f-4baf-9b1b-3a9a182fb29a"
   },
   "outputs": [],
   "source": [
    "  qres = g.query(\n",
    "    \"\"\"PREFIX dbo: <http://dbpedia.org/ontology/>\n",
    "       PREFIX dbr: <http://dbpedia.org/resource/>\n",
    "       \n",
    "       select ?poi ?district\n",
    "       WHERE {\n",
    "        dbr:Warsaw dbo:subdivision ?district   .\n",
    "        ?poi dbo:location ?district .\n",
    "       }\n",
    "       \"\"\")\n",
    "\n",
    "for row in qres:\n",
    "    print(\"%s located in %s\" % row)"
   ]
  },
  {
   "cell_type": "markdown",
   "metadata": {
    "id": "MvTdUEAqYov9"
   },
   "source": [
    "<span style=\"color:red\">__Exercise 2: Compose graph g with a query (containing two triple patterns) for the types of geographic features that are located in Warsaw (use the `dbo:location` and `rdf:type` properties). The list of results should include the tuple: (http://dbpedia.org/resource/Copernicus_Science_Centre, http://dbpedia.org/ontology/Museum)__</span>"
   ]
  },
  {
   "cell_type": "code",
   "execution_count": null,
   "metadata": {
    "colab": {
     "base_uri": "https://localhost:8080/"
    },
    "id": "QWf26cRAYov_",
    "outputId": "4445a1de-b062-4e71-856c-19492d0caddd"
   },
   "outputs": [],
   "source": [
    "#enter the solution to task 2 here\n",
    "\n",
    "for row in qres:\n",
    "    print(\"%s is of type %s\" % row)"
   ]
  },
  {
   "cell_type": "markdown",
   "metadata": {
    "id": "9k3Mjp9hwGG9"
   },
   "source": [
    "# Query modifiers\n",
    "\n",
    "If we would like the query results to be sorted by the value of the selected variable, we can add an `ORDER BY` clause:"
   ]
  },
  {
   "cell_type": "code",
   "execution_count": null,
   "metadata": {
    "colab": {
     "base_uri": "https://localhost:8080/"
    },
    "id": "8t0_D-3VwSi_",
    "outputId": "7eacb4fd-8068-487f-c945-efa2c3433ca0"
   },
   "outputs": [],
   "source": [
    "  qres = g.query(\n",
    "    \"\"\"PREFIX dbo: <http://dbpedia.org/ontology/>\n",
    "       PREFIX dbr: <http://dbpedia.org/resource/>\n",
    "       PREFIX rdfs: <http://www.w3.org/2000/01/rdf-schema#>\n",
    "       \n",
    "       select ?poi ?district \n",
    "       WHERE {\n",
    "        dbr:Warsaw dbo:subdivision ?district   .\n",
    "        ?poi dbo:location ?district .\n",
    "       }\n",
    "       ORDER BY ?poi\n",
    "       \"\"\")\n",
    "\n",
    "for row in qres:\n",
    "    print(\"%s located in %s\" % row)"
   ]
  },
  {
   "cell_type": "markdown",
   "metadata": {
    "id": "Idl74ENuxrRI"
   },
   "source": [
    "The `LIMIT` modifier, in turn, allows us to display a limited number of results:"
   ]
  },
  {
   "cell_type": "code",
   "execution_count": null,
   "metadata": {
    "colab": {
     "base_uri": "https://localhost:8080/"
    },
    "id": "LCuX3iTXxfnv",
    "outputId": "aa28f336-d037-4c2b-881e-75eb30d9e8ef"
   },
   "outputs": [],
   "source": [
    "qres = g.query(\n",
    "    \"\"\"PREFIX dbo: <http://dbpedia.org/ontology/>\n",
    "       PREFIX dbr: <http://dbpedia.org/resource/>\n",
    "       PREFIX rdfs: <http://www.w3.org/2000/01/rdf-schema#>\n",
    "       \n",
    "       select ?poi ?district \n",
    "       WHERE {\n",
    "        dbr:Warsaw dbo:subdivision ?district   .\n",
    "        ?poi dbo:location ?district .\n",
    "       }\n",
    "       LIMIT 3\n",
    "       \"\"\")\n",
    "\n",
    "for row in qres:\n",
    "    print(\"%s located in %s\" % row)"
   ]
  },
  {
   "cell_type": "markdown",
   "metadata": {
    "id": "A6Cr1GJKYowN"
   },
   "source": [
    "  <span style=\"color:red\">__Task 3: formulate a query to graph g about cities located in Poland limiting the results to 5__ </span>."
   ]
  },
  {
   "cell_type": "code",
   "execution_count": null,
   "metadata": {
    "id": "6PH_EAJ6YowO"
   },
   "outputs": [],
   "source": [
    "#enter the solution to task 3 here"
   ]
  },
  {
   "cell_type": "markdown",
   "metadata": {
    "id": "0M7pLtv5YowQ"
   },
   "source": [
    "# FILTER clause"
   ]
  },
  {
   "cell_type": "markdown",
   "metadata": {
    "id": "LahUsLOwYowR"
   },
   "source": [
    "The FILTER clause allows the exclusion of selected triples from the query results. Its idea is to perform a Boolean test to include or exclude results based on the value of a given variable. \n",
    "\n",
    "SPARQL supports many built-in functions for writing such expressions, such as:\n",
    "comparison operators: (`=`,`!=`, `<`, `<=`, `>`, `>=`)\n",
    "logical operators (`&&`, `|`, `!`)\n",
    "mathematical operators (`+`, `-`, `/`, `*`)  \n"
   ]
  },
  {
   "cell_type": "code",
   "execution_count": null,
   "metadata": {
    "colab": {
     "base_uri": "https://localhost:8080/"
    },
    "id": "ihQWXb_xYowS",
    "outputId": "d2aac78d-503c-4061-bce4-977fade34dfd"
   },
   "outputs": [],
   "source": [
    "qres = g.query(\n",
    "    \"\"\"PREFIX dbo: <http://dbpedia.org/ontology/>\n",
    "       PREFIX dbr: <http://dbpedia.org/resource/>\n",
    "\n",
    "       SELECT ?settlement ?population\n",
    "       WHERE {\n",
    "        ?settlement dbo:country dbr:Poland .\n",
    "        ?settlement dbo:populationTotal ?population . FILTER (?population >= \"500000\"^^xsd:int)\n",
    "       }\"\"\")\n",
    "\n",
    "for row in qres:\n",
    "    print(\"%s has population %s\" % row)"
   ]
  },
  {
   "cell_type": "markdown",
   "metadata": {
    "id": "l9u4I8l6YowX"
   },
   "source": [
    "<span style=\"colour:red\">__Task 4: formulate a query to graph g about the names of towns and their areas (`dbo:areaTotal`) that have areas greater than 120000000__ </span>."
   ]
  },
  {
   "cell_type": "code",
   "execution_count": null,
   "metadata": {
    "id": "II4mHUc2YowY"
   },
   "outputs": [],
   "source": [
    "#enter the solution to task 4 here"
   ]
  },
  {
   "cell_type": "markdown",
   "metadata": {
    "collapsed": true,
    "id": "_A3X32qoYowc"
   },
   "source": [
    "# OPTIONAL clause"
   ]
  },
  {
   "cell_type": "markdown",
   "metadata": {
    "id": "YX2fJ1mJYowd"
   },
   "source": [
    "Using the OPTIONAL clause, we can specify parts of a query that do not have to match the graph for the whole query to return a result for a given graph pattern. For example, a knowledge graph such as DBpedia may contain information about the population of a locality, but not about its area, yet we may want to return information about a locality, even if it is partial (available not for every locality)."
   ]
  },
  {
   "cell_type": "code",
   "execution_count": null,
   "metadata": {
    "colab": {
     "base_uri": "https://localhost:8080/"
    },
    "id": "SdjvhqieYowe",
    "outputId": "87b7e615-5df4-4064-c823-7a70afa6528b"
   },
   "outputs": [],
   "source": [
    "qres = g.query(\n",
    "    \"\"\"PREFIX dbo: <http://dbpedia.org/ontology/>\n",
    "       PREFIX dbr: <http://dbpedia.org/resource/>\n",
    "\n",
    "       SELECT ?settlement ?population\n",
    "       WHERE {\n",
    "        ?settlement dbo:country dbr:Poland .\n",
    "        OPTIONAL {?settlement dbo:populationTotal ?population . }\n",
    "       }\"\"\")\n",
    "\n",
    "for row in qres:\n",
    "    print(\"%s has population %s\" % row)\n"
   ]
  },
  {
   "cell_type": "markdown",
   "metadata": {
    "id": "9SMCO0HRYowj"
   },
   "source": [
    "<span style=\"color:red\">__Exercise 5: Query for city names with optional area information (`dbo:areaTotal`).__ </span>"
   ]
  },
  {
   "cell_type": "code",
   "execution_count": null,
   "metadata": {
    "id": "L3NQ7YJbYowj"
   },
   "outputs": [],
   "source": [
    "# enter the solution to task 5 here"
   ]
  },
  {
   "cell_type": "markdown",
   "metadata": {
    "id": "NZk7uCU7YowD"
   },
   "source": [
    "# ASK query"
   ]
  },
  {
   "cell_type": "markdown",
   "metadata": {
    "id": "sUOLW09DYowE"
   },
   "source": [
    "If we want to determine whether a given triple pattern or an RDF triple will find a match in the graph at all, and not necessarily the match on all results, we can ask an `ASK` query that returns a `true` or `false` value:"
   ]
  },
  {
   "cell_type": "code",
   "execution_count": null,
   "metadata": {
    "colab": {
     "base_uri": "https://localhost:8080/"
    },
    "id": "7XNyZVC5YowK",
    "outputId": "c9004f4c-8521-425f-b5b3-d18c84ec71df"
   },
   "outputs": [],
   "source": [
    "qres = g.query(\n",
    "    \"\"\"PREFIX dbo: <http://dbpedia.org/ontology/>\n",
    "       PREFIX dbr: <http://dbpedia.org/resource/>\n",
    "       ASK \n",
    "       WHERE {\n",
    "          dbr:Warsaw dbo:location dbr:Poland \n",
    "       }\"\"\")\n",
    "\n",
    "for row in qres:\n",
    "    print(\"%s\" % row)"
   ]
  },
  {
   "cell_type": "markdown",
   "metadata": {
    "id": "jP88wvn1Fk7d"
   },
   "source": [
    "<span style=\"color:red\">__Exercise 6: Write an `ASK` query similar to the one above, but asking if the country of Warsaw is Poland (`dbo:country`).__ </span>"
   ]
  },
  {
   "cell_type": "code",
   "execution_count": null,
   "metadata": {
    "id": "ZSkJi6JZFzgD"
   },
   "outputs": [],
   "source": [
    "# enter the solution to task 6 here"
   ]
  },
  {
   "cell_type": "markdown",
   "metadata": {
    "id": "kH5QdIjSIOZh"
   },
   "source": [
    "# DBpedia's SPARQL endpoint\n",
    "\n",
    "SPARQL queries are executed against RDF datasets, consisting of RDF graphs. \n",
    "A SPARQL endpoint is a service that accepts queries and returns results over HTTP. \n",
    "SPARQL endpoints have their own addresses, usually associated with specific datasets. \n",
    "The address of a SPARQL endpoint associated with the DBpedia knowledge graph is https://dbpedia.org/sparql.\n",
    "DBpedia also offers interfaces for browsing the graph as well as for querying it: https://dbpedia.org/sparql/\n",
    " "
   ]
  },
  {
   "cell_type": "markdown",
   "metadata": {
    "id": "qx1puWeWJYYD"
   },
   "source": [
    "__Task 7: Using the interface provided by DBpedia and the knowledge you have acquired so far about this graph, formulate the following queries in SPARQL so as to get results using the SPARQL DBpedia endpoint:__\n",
    "\n",
    "1. a list of people born in Warsaw \n",
    "2. list of museums in Kraków\n",
    "3. list of people born in Warsaw who have won a Nobel Prize\n",
    "4. dates of birth of people born in Krakow  \n",
    "."
   ]
  },
  {
   "cell_type": "code",
   "execution_count": null,
   "metadata": {
    "id": "4LeoleP8KCqX"
   },
   "outputs": [],
   "source": [
    "#  enter the solution to task 7 here"
   ]
  }
 ],
 "metadata": {
  "colab": {
   "collapsed_sections": [],
   "name": "lab-sparql.ipynb",
   "provenance": [],
   "toc_visible": true
  },
  "kernelspec": {
   "display_name": "Python 3 (ipykernel)",
   "language": "python",
   "name": "python3"
  },
  "language_info": {
   "codemirror_mode": {
    "name": "ipython",
    "version": 3
   },
   "file_extension": ".py",
   "mimetype": "text/x-python",
   "name": "python",
   "nbconvert_exporter": "python",
   "pygments_lexer": "ipython3",
   "version": "3.9.7"
  }
 },
 "nbformat": 4,
 "nbformat_minor": 1
}
